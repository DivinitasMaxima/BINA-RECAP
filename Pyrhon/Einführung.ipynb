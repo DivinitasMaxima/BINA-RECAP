{
 "cells": [
  {
   "cell_type": "markdown",
   "metadata": {},
   "source": [
    "Folgende Code-Teile werden nicht dokumentiert, sie sind selbsterklärend.\n",
    "Python Grundlagen\n",
    "https://www.w3schools.com/python/default.asp"
   ]
  },
  {
   "cell_type": "code",
   "execution_count": null,
   "metadata": {},
   "outputs": [
    {
     "name": "stdout",
     "output_type": "stream",
     "text": [
      "3.12.1 (main, Dec 12 2024, 22:30:56) [GCC 9.4.0]\n",
      "Five is greater than two!\n",
      "Five is greater than two!\n",
      "3.0\n",
      "<class 'int'>\n",
      "Orange\n",
      "Banana\n",
      "Cherry\n",
      "Orange\n",
      "Orange\n",
      "Orange\n",
      "apple\n",
      "banana\n",
      "cherry\n",
      "['apple', 'banana', 'cherry']\n",
      "apple banana cherry\n",
      "applebananacherry\n",
      "Python is fantastic\n",
      "Python is awesome\n",
      "Python k is fantastic\n"
     ]
    }
   ],
   "source": [
    "import sys #To check the Python version of the editor, you can find it by importing the sys module\n",
    "#This is a comment\n",
    "print(sys.version)\n",
    "\n",
    "if 5 > 2:\n",
    " print(\"Five is greater than two!\") \n",
    " \n",
    "if 5 > 2:\n",
    "        print(\"Five is greater than two!\") \n",
    "\n",
    "\n",
    "x = str(3)    # x will be '3'\n",
    "y = int(3)    # y will be 3\n",
    "z = float(3)  # z will be 3.0\n",
    "\n",
    "print (z)\n",
    "print (type(y))\n",
    "\n",
    "a, b, c = \"Orange\", \"Banana\", \"Cherry\"\n",
    "print(a)\n",
    "print(b)\n",
    "print(c)\n",
    "\n",
    "d = e = f = \"Orange\"\n",
    "print(d)\n",
    "print(e)\n",
    "print(f)\n",
    "\n",
    "fruits = [\"apple\", \"banana\", \"cherry\"]\n",
    "g, h, i = fruits\n",
    "j = fruits\n",
    "print(g)\n",
    "print(h)\n",
    "print(i)\n",
    "print(j)\n",
    "print(g,h,i)\n",
    "print(g+h+i)\n",
    "\n",
    "x = \"awesome\"\n",
    "\n",
    "def myfunc():\n",
    "  x = \"fantastic\"\n",
    "  print(\"Python is \" + x)\n",
    "\n",
    "myfunc()\n",
    "\n",
    "print(\"Python is \" + x)\n",
    "\n",
    "k = \"awesome\"\n",
    "\n",
    "def myfunc():\n",
    "  global k\n",
    "  k = \"fantastic\"\n",
    "\n",
    "myfunc()\n",
    "\n",
    "print(\"Python k is \" + k)\n",
    "\n",
    "#\n"
   ]
  }
 ],
 "metadata": {
  "kernelspec": {
   "display_name": "Python 3",
   "language": "python",
   "name": "python3"
  },
  "language_info": {
   "codemirror_mode": {
    "name": "ipython",
    "version": 3
   },
   "file_extension": ".py",
   "mimetype": "text/x-python",
   "name": "python",
   "nbconvert_exporter": "python",
   "pygments_lexer": "ipython3",
   "version": "3.12.1"
  }
 },
 "nbformat": 4,
 "nbformat_minor": 2
}
