{
 "cells": [
  {
   "cell_type": "markdown",
   "metadata": {},
   "source": [
    "Folgende Code-Teile werden nicht dokumentiert, sie sind selbsterklärend."
   ]
  },
  {
   "cell_type": "code",
   "execution_count": null,
   "metadata": {},
   "outputs": [],
   "source": [
    "import sys #To check the Python version of the editor, you can find it by importing the sys module\n",
    "\n",
    "print(sys.version)\n",
    "\n",
    "if 5 > 2:\n",
    " print(\"Five is greater than two!\") \n",
    "if 5 > 2:\n",
    "        print(\"Five is greater than two!\") "
   ]
  }
 ],
 "metadata": {
  "language_info": {
   "name": "python"
  }
 },
 "nbformat": 4,
 "nbformat_minor": 2
}
